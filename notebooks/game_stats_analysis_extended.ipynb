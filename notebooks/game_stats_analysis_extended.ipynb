{
 "cells": [
  {
   "cell_type": "markdown",
   "id": "58b0d4c3",
   "metadata": {},
   "source": [
    "# Análise Avançada de Estatísticas da NBA"
   ]
  },
  {
   "cell_type": "markdown",
   "id": "cc6a4199",
   "metadata": {},
   "source": [
    "Este notebook traz uma análise estendida das estatísticas dos jogadores da NBA, incluindo rebotes, eficiência, minutos jogados e desempenho por temporada."
   ]
  },
  {
   "cell_type": "code",
   "execution_count": null,
   "id": "a5d95179",
   "metadata": {},
   "outputs": [],
   "source": [
    "import pandas as pd\n",
    "import matplotlib.pyplot as plt\n",
    "import seaborn as sns\n",
    "\n",
    "%matplotlib inline"
   ]
  },
  {
   "cell_type": "code",
   "execution_count": null,
   "id": "f9c7768a",
   "metadata": {},
   "outputs": [],
   "source": [
    "df = pd.read_csv('../data/game_stats.csv')\n",
    "df.head()"
   ]
  },
  {
   "cell_type": "markdown",
   "id": "91627fff",
   "metadata": {},
   "source": [
    "## Análise por Temporada"
   ]
  },
  {
   "cell_type": "code",
   "execution_count": null,
   "id": "1111922f",
   "metadata": {},
   "outputs": [],
   "source": [
    "\n",
    "df['season'] = df['game'].apply(lambda x: eval(x).get('season', 'Unknown'))\n",
    "season_pts = df.groupby('season')['pts'].mean().sort_index()\n",
    "season_pts.plot(kind='bar', title='Média de Pontos por Temporada')\n",
    "plt.ylabel('Pontos Médios')\n",
    "plt.xlabel('Temporada')\n",
    "plt.show()\n"
   ]
  },
  {
   "cell_type": "markdown",
   "id": "923155d8",
   "metadata": {},
   "source": [
    "## Rebotes Totais (Top 10 jogadores)"
   ]
  },
  {
   "cell_type": "code",
   "execution_count": null,
   "id": "674eff85",
   "metadata": {},
   "outputs": [],
   "source": [
    "\n",
    "df['reb'] = pd.to_numeric(df['reb'], errors='coerce')\n",
    "top_rebounders = df.groupby(df['player'].apply(lambda x: eval(x)['first_name'] + ' ' + eval(x)['last_name']))['reb'].sum()\n",
    "top_rebounders.sort_values(ascending=False).head(10).plot(kind='barh', title='Top 10 Jogadores com mais Rebotes Totais')\n",
    "plt.xlabel('Rebotes Totais')\n",
    "plt.show()\n"
   ]
  },
  {
   "cell_type": "markdown",
   "id": "aa912d1c",
   "metadata": {},
   "source": [
    "## Minutos Jogados (Top 10 jogadores)"
   ]
  },
  {
   "cell_type": "code",
   "execution_count": null,
   "id": "8037b3f5",
   "metadata": {},
   "outputs": [],
   "source": [
    "\n",
    "df['min'] = pd.to_numeric(df['min'].str.replace(':', '.'), errors='coerce')\n",
    "top_minutes = df.groupby(df['player'].apply(lambda x: eval(x)['first_name'] + ' ' + eval(x)['last_name']))['min'].sum()\n",
    "top_minutes.sort_values(ascending=False).head(10).plot(kind='barh', title='Top 10 Jogadores com mais Minutos Jogados')\n",
    "plt.xlabel('Minutos')\n",
    "plt.show()\n"
   ]
  },
  {
   "cell_type": "markdown",
   "id": "70104fd4",
   "metadata": {},
   "source": [
    "## Eficiência Simples (Pontos + Rebotes + Assistências)"
   ]
  },
  {
   "cell_type": "code",
   "execution_count": null,
   "id": "a8652dd7",
   "metadata": {},
   "outputs": [],
   "source": [
    "\n",
    "df['ast'] = pd.to_numeric(df['ast'], errors='coerce')\n",
    "df['efficiency'] = df['pts'] + df['reb'] + df['ast']\n",
    "efficiency_avg = df.groupby(df['player'].apply(lambda x: eval(x)['first_name'] + ' ' + eval(x)['last_name']))['efficiency'].mean()\n",
    "efficiency_avg.sort_values(ascending=False).head(10).plot(kind='barh', title='Top 10 Jogadores mais Eficientes (PTS + REB + AST)')\n",
    "plt.xlabel('Eficiência Média')\n",
    "plt.show()\n"
   ]
  },
  {
   "cell_type": "markdown",
   "id": "5b3e140e",
   "metadata": {},
   "source": [
    "## Conclusão"
   ]
  },
  {
   "cell_type": "markdown",
   "id": "02fbe535",
   "metadata": {},
   "source": [
    "Com estas análises adicionais, foi possível observar quais jogadores mais se destacam em tempo de quadra, eficiência combinada e rebotes, além de acompanhar tendências por temporada."
   ]
  }
 ],
 "metadata": {},
 "nbformat": 4,
 "nbformat_minor": 5
}