{
 "cells": [
  {
   "cell_type": "markdown",
   "id": "16c4ae9b",
   "metadata": {},
   "source": [
    "# Análise de Estatísticas de Jogos da NBA"
   ]
  },
  {
   "cell_type": "markdown",
   "id": "1a1109d8",
   "metadata": {},
   "source": [
    "Este notebook realiza uma análise exploratória das estatísticas de jogos coletadas da API balldontlie."
   ]
  },
  {
   "cell_type": "code",
   "execution_count": null,
   "id": "f9fdd9e2",
   "metadata": {},
   "outputs": [],
   "source": [
    "import pandas as pd\n",
    "import matplotlib.pyplot as plt\n",
    "import seaborn as sns\n",
    "\n",
    "%matplotlib inline"
   ]
  },
  {
   "cell_type": "code",
   "execution_count": null,
   "id": "3d279f4d",
   "metadata": {},
   "outputs": [],
   "source": [
    "df = pd.read_csv('../data/game_stats.csv')\n",
    "df.shape"
   ]
  },
  {
   "cell_type": "code",
   "execution_count": null,
   "id": "6ae4beec",
   "metadata": {},
   "outputs": [],
   "source": [
    "df.head()"
   ]
  },
  {
   "cell_type": "markdown",
   "id": "82737513",
   "metadata": {},
   "source": [
    "## Pontuação por Jogador (Top 10)"
   ]
  },
  {
   "cell_type": "code",
   "execution_count": null,
   "id": "9343de43",
   "metadata": {},
   "outputs": [],
   "source": [
    "\n",
    "top_scorers = df.groupby(df['player'].apply(lambda x: eval(x)['first_name'] + ' ' + eval(x)['last_name']))['pts'].sum()\n",
    "top_scorers = top_scorers.sort_values(ascending=False).head(10)\n",
    "\n",
    "plt.figure(figsize=(10, 6))\n",
    "sns.barplot(x=top_scorers.values, y=top_scorers.index)\n",
    "plt.title('Top 10 jogadores com mais pontos acumulados')\n",
    "plt.xlabel('Pontos')\n",
    "plt.ylabel('Jogador')\n",
    "plt.show()\n"
   ]
  },
  {
   "cell_type": "markdown",
   "id": "3bd1ec9b",
   "metadata": {},
   "source": [
    "## Médias de Assistências por Posição"
   ]
  },
  {
   "cell_type": "code",
   "execution_count": null,
   "id": "496f5845",
   "metadata": {},
   "outputs": [],
   "source": [
    "\n",
    "df['position'] = df['player'].apply(lambda x: eval(x).get('position', ''))\n",
    "df['ast'] = pd.to_numeric(df['ast'], errors='coerce')\n",
    "\n",
    "position_assists = df.groupby('position')['ast'].mean().sort_values(ascending=False)\n",
    "\n",
    "plt.figure(figsize=(8, 5))\n",
    "sns.barplot(x=position_assists.index, y=position_assists.values)\n",
    "plt.title('Média de assistências por posição')\n",
    "plt.ylabel('Assistências')\n",
    "plt.xlabel('Posição')\n",
    "plt.show()\n"
   ]
  },
  {
   "cell_type": "markdown",
   "id": "5330af7f",
   "metadata": {},
   "source": [
    "## Conclusão"
   ]
  },
  {
   "cell_type": "markdown",
   "id": "892ae4fe",
   "metadata": {},
   "source": [
    "Este notebook traz uma análise preliminar de pontos e assistências. Pode ser expandido para incluir rebotes, eficiência por time ou comparação entre temporadas."
   ]
  }
 ],
 "metadata": {},
 "nbformat": 4,
 "nbformat_minor": 5
}