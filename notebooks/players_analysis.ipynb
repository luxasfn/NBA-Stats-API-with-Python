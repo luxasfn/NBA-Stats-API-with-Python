{
 "cells": [
  {
   "cell_type": "markdown",
   "id": "17028c0d",
   "metadata": {},
   "source": [
    "# Análise Exploratória dos Jogadores da NBA"
   ]
  },
  {
   "cell_type": "markdown",
   "id": "94e7e0e1",
   "metadata": {},
   "source": [
    "Este notebook realiza uma análise inicial dos dados coletados de jogadores da NBA utilizando a API pública."
   ]
  },
  {
   "cell_type": "code",
   "execution_count": null,
   "id": "59317ce3",
   "metadata": {},
   "outputs": [],
   "source": [
    "import pandas as pd\n",
    "import matplotlib.pyplot as plt\n",
    "import seaborn as sns\n",
    "\n",
    "%matplotlib inline"
   ]
  },
  {
   "cell_type": "code",
   "execution_count": null,
   "id": "17276c08",
   "metadata": {},
   "outputs": [],
   "source": [
    "df = pd.read_csv('../data/players.csv')\n",
    "df.head()"
   ]
  },
  {
   "cell_type": "markdown",
   "id": "79a2f0f5",
   "metadata": {},
   "source": [
    "## Distribuição por Posição"
   ]
  },
  {
   "cell_type": "code",
   "execution_count": null,
   "id": "c8825a32",
   "metadata": {},
   "outputs": [],
   "source": [
    "\n",
    "sns.countplot(data=df, x='position')\n",
    "plt.title('Distribuição de jogadores por posição')\n",
    "plt.xlabel('Posição')\n",
    "plt.ylabel('Quantidade')\n",
    "plt.show()\n"
   ]
  },
  {
   "cell_type": "markdown",
   "id": "36c8c34b",
   "metadata": {},
   "source": [
    "## Jogadores por Time"
   ]
  },
  {
   "cell_type": "code",
   "execution_count": null,
   "id": "6016b843",
   "metadata": {},
   "outputs": [],
   "source": [
    "\n",
    "team_counts = df['team'].apply(lambda x: eval(x)['full_name'] if pd.notna(x) else 'Desconhecido')\n",
    "team_counts.value_counts().head(10).plot(kind='barh', title='Top 10 times com mais jogadores')\n",
    "plt.xlabel('Número de Jogadores')\n",
    "plt.show()\n"
   ]
  },
  {
   "cell_type": "markdown",
   "id": "12f219f7",
   "metadata": {},
   "source": [
    "## Conclusão"
   ]
  },
  {
   "cell_type": "markdown",
   "id": "06876005",
   "metadata": {},
   "source": [
    "Este notebook oferece uma visão preliminar dos dados de jogadores. Pode ser expandido para analisar estatísticas de jogo, desempenho por temporada e comparações entre atletas."
   ]
  }
 ],
 "metadata": {},
 "nbformat": 4,
 "nbformat_minor": 5
}